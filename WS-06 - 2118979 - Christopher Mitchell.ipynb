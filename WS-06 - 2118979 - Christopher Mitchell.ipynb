{
 "cells": [
  {
   "cell_type": "markdown",
   "id": "8e09bc98",
   "metadata": {
    "pycharm": {
     "name": "#%% md\n"
    }
   },
   "source": [
    "<h1>Workshop 6 - Market Basket Analysis using Apriori Algorithm"
   ]
  },
  {
   "cell_type": "code",
   "execution_count": 1,
   "outputs": [],
   "source": [
    "import matplotlib.pyplot as plt; plt.rcdefaults()\n",
    "import matplotlib.pyplot as plt\n",
    "import pandas as pd\n",
    "import numpy as np\n",
    "import warnings\n",
    "warnings.filterwarnings('ignore')"
   ],
   "metadata": {
    "collapsed": false,
    "pycharm": {
     "name": "#%%\n"
    }
   }
  },
  {
   "cell_type": "code",
   "execution_count": 2,
   "outputs": [],
   "source": [
    "df = pd.read_csv('Workshop-06-dataset.zip', sep='\\t',dtype=np.str)"
   ],
   "metadata": {
    "collapsed": false,
    "pycharm": {
     "name": "#%%\n"
    }
   }
  },
  {
   "cell_type": "markdown",
   "source": [
    "<h4>Q1. Print the first five rows of the dataset."
   ],
   "metadata": {
    "collapsed": false,
    "pycharm": {
     "name": "#%% md\n"
    }
   }
  },
  {
   "cell_type": "code",
   "source": [
    "df.head(5)"
   ],
   "metadata": {
    "collapsed": false,
    "pycharm": {
     "name": "#%%\n"
    }
   },
   "execution_count": 3,
   "outputs": [
    {
     "data": {
      "text/plain": "  transaction_ID        Date   Time                              item_0  \\\n0         536365  01/12/2010  08:26  WHITE HANGING HEART T-LIGHT HOLDER   \n1         536366  01/12/2010  08:28              HAND WARMER UNION JACK   \n2         536367  01/12/2010  08:34       ASSORTED COLOUR BIRD ORNAMENT   \n3         536368  01/12/2010  08:34            JAM MAKING SET WITH JARS   \n4         536369  01/12/2010  08:35            BATH BUILDING BLOCK WORD   \n\n                        item_1                          item_2  \\\n0          WHITE METAL LANTERN  CREAM CUPID HEARTS COAT HANGER   \n1    HAND WARMER RED POLKA DOT                             NaN   \n2    POPPY'S PLAYHOUSE BEDROOM       POPPY'S PLAYHOUSE KITCHEN   \n3  RED COAT RACK PARIS FASHION  YELLOW COAT RACK PARIS FASHION   \n4                          NaN                             NaN   \n\n                                item_3                         item_4  \\\n0  KNITTED UNION FLAG HOT WATER BOTTLE  RED WOOLLY HOTTIE WHITE HEART   \n1                                  NaN                            NaN   \n2    FELTCRAFT PRINCESS CHARLOTTE DOLL         IVORY KNITTED MUG COSY   \n3         BLUE COAT RACK PARIS FASHION                            NaN   \n4                                  NaN                            NaN   \n\n                               item_5                             item_6  ...  \\\n0        SET 7 BABUSHKA NESTING BOXES  GLASS STAR FROSTED T-LIGHT HOLDER  ...   \n1                                 NaN                                NaN  ...   \n2  BOX OF 6 ASSORTED COLOUR TEASPOONS       BOX OF VINTAGE JIGSAW BLOCKS  ...   \n3                                 NaN                                NaN  ...   \n4                                 NaN                                NaN  ...   \n\n  item_31 item_32 item_33 item_34 item_35 item_36 item_37 item_38 item_39  \\\n0     NaN     NaN     NaN     NaN     NaN     NaN     NaN     NaN     NaN   \n1     NaN     NaN     NaN     NaN     NaN     NaN     NaN     NaN     NaN   \n2     NaN     NaN     NaN     NaN     NaN     NaN     NaN     NaN     NaN   \n3     NaN     NaN     NaN     NaN     NaN     NaN     NaN     NaN     NaN   \n4     NaN     NaN     NaN     NaN     NaN     NaN     NaN     NaN     NaN   \n\n  item_40  \n0     NaN  \n1     NaN  \n2     NaN  \n3     NaN  \n4     NaN  \n\n[5 rows x 44 columns]",
      "text/html": "<div>\n<style scoped>\n    .dataframe tbody tr th:only-of-type {\n        vertical-align: middle;\n    }\n\n    .dataframe tbody tr th {\n        vertical-align: top;\n    }\n\n    .dataframe thead th {\n        text-align: right;\n    }\n</style>\n<table border=\"1\" class=\"dataframe\">\n  <thead>\n    <tr style=\"text-align: right;\">\n      <th></th>\n      <th>transaction_ID</th>\n      <th>Date</th>\n      <th>Time</th>\n      <th>item_0</th>\n      <th>item_1</th>\n      <th>item_2</th>\n      <th>item_3</th>\n      <th>item_4</th>\n      <th>item_5</th>\n      <th>item_6</th>\n      <th>...</th>\n      <th>item_31</th>\n      <th>item_32</th>\n      <th>item_33</th>\n      <th>item_34</th>\n      <th>item_35</th>\n      <th>item_36</th>\n      <th>item_37</th>\n      <th>item_38</th>\n      <th>item_39</th>\n      <th>item_40</th>\n    </tr>\n  </thead>\n  <tbody>\n    <tr>\n      <th>0</th>\n      <td>536365</td>\n      <td>01/12/2010</td>\n      <td>08:26</td>\n      <td>WHITE HANGING HEART T-LIGHT HOLDER</td>\n      <td>WHITE METAL LANTERN</td>\n      <td>CREAM CUPID HEARTS COAT HANGER</td>\n      <td>KNITTED UNION FLAG HOT WATER BOTTLE</td>\n      <td>RED WOOLLY HOTTIE WHITE HEART</td>\n      <td>SET 7 BABUSHKA NESTING BOXES</td>\n      <td>GLASS STAR FROSTED T-LIGHT HOLDER</td>\n      <td>...</td>\n      <td>NaN</td>\n      <td>NaN</td>\n      <td>NaN</td>\n      <td>NaN</td>\n      <td>NaN</td>\n      <td>NaN</td>\n      <td>NaN</td>\n      <td>NaN</td>\n      <td>NaN</td>\n      <td>NaN</td>\n    </tr>\n    <tr>\n      <th>1</th>\n      <td>536366</td>\n      <td>01/12/2010</td>\n      <td>08:28</td>\n      <td>HAND WARMER UNION JACK</td>\n      <td>HAND WARMER RED POLKA DOT</td>\n      <td>NaN</td>\n      <td>NaN</td>\n      <td>NaN</td>\n      <td>NaN</td>\n      <td>NaN</td>\n      <td>...</td>\n      <td>NaN</td>\n      <td>NaN</td>\n      <td>NaN</td>\n      <td>NaN</td>\n      <td>NaN</td>\n      <td>NaN</td>\n      <td>NaN</td>\n      <td>NaN</td>\n      <td>NaN</td>\n      <td>NaN</td>\n    </tr>\n    <tr>\n      <th>2</th>\n      <td>536367</td>\n      <td>01/12/2010</td>\n      <td>08:34</td>\n      <td>ASSORTED COLOUR BIRD ORNAMENT</td>\n      <td>POPPY'S PLAYHOUSE BEDROOM</td>\n      <td>POPPY'S PLAYHOUSE KITCHEN</td>\n      <td>FELTCRAFT PRINCESS CHARLOTTE DOLL</td>\n      <td>IVORY KNITTED MUG COSY</td>\n      <td>BOX OF 6 ASSORTED COLOUR TEASPOONS</td>\n      <td>BOX OF VINTAGE JIGSAW BLOCKS</td>\n      <td>...</td>\n      <td>NaN</td>\n      <td>NaN</td>\n      <td>NaN</td>\n      <td>NaN</td>\n      <td>NaN</td>\n      <td>NaN</td>\n      <td>NaN</td>\n      <td>NaN</td>\n      <td>NaN</td>\n      <td>NaN</td>\n    </tr>\n    <tr>\n      <th>3</th>\n      <td>536368</td>\n      <td>01/12/2010</td>\n      <td>08:34</td>\n      <td>JAM MAKING SET WITH JARS</td>\n      <td>RED COAT RACK PARIS FASHION</td>\n      <td>YELLOW COAT RACK PARIS FASHION</td>\n      <td>BLUE COAT RACK PARIS FASHION</td>\n      <td>NaN</td>\n      <td>NaN</td>\n      <td>NaN</td>\n      <td>...</td>\n      <td>NaN</td>\n      <td>NaN</td>\n      <td>NaN</td>\n      <td>NaN</td>\n      <td>NaN</td>\n      <td>NaN</td>\n      <td>NaN</td>\n      <td>NaN</td>\n      <td>NaN</td>\n      <td>NaN</td>\n    </tr>\n    <tr>\n      <th>4</th>\n      <td>536369</td>\n      <td>01/12/2010</td>\n      <td>08:35</td>\n      <td>BATH BUILDING BLOCK WORD</td>\n      <td>NaN</td>\n      <td>NaN</td>\n      <td>NaN</td>\n      <td>NaN</td>\n      <td>NaN</td>\n      <td>NaN</td>\n      <td>...</td>\n      <td>NaN</td>\n      <td>NaN</td>\n      <td>NaN</td>\n      <td>NaN</td>\n      <td>NaN</td>\n      <td>NaN</td>\n      <td>NaN</td>\n      <td>NaN</td>\n      <td>NaN</td>\n      <td>NaN</td>\n    </tr>\n  </tbody>\n</table>\n<p>5 rows × 44 columns</p>\n</div>"
     },
     "execution_count": 3,
     "metadata": {},
     "output_type": "execute_result"
    }
   ]
  },
  {
   "cell_type": "markdown",
   "source": [
    "<h6>Answer 1.<p>Using the .head(n) function to show a number of entries in the dataset based on the value of n."
   ],
   "metadata": {
    "collapsed": false
   }
  },
  {
   "cell_type": "markdown",
   "source": [
    "<h4>Q2. How many rows and columns are there in the dataset?"
   ],
   "metadata": {
    "collapsed": false,
    "pycharm": {
     "name": "#%% md\n"
    }
   }
  },
  {
   "cell_type": "code",
   "execution_count": 4,
   "outputs": [
    {
     "data": {
      "text/plain": "(31941, 44)"
     },
     "execution_count": 4,
     "metadata": {},
     "output_type": "execute_result"
    }
   ],
   "source": [
    "df.shape"
   ],
   "metadata": {
    "collapsed": false,
    "pycharm": {
     "name": "#%%\n"
    }
   }
  },
  {
   "cell_type": "markdown",
   "source": [
    "<h6>Answer 2.<p> There are 31,941 rows and 44 columns in the dataset."
   ],
   "metadata": {
    "collapsed": false,
    "pycharm": {
     "name": "#%% md\n"
    }
   }
  },
  {
   "cell_type": "markdown",
   "source": [
    "<h2> Generating your unique Dataset"
   ],
   "metadata": {
    "collapsed": false
   }
  },
  {
   "cell_type": "code",
   "execution_count": 5,
   "outputs": [],
   "source": [
    "STUDENT_NAME = 'ChristopherMitchell'\n",
    "STUDENT_NO = '8979'"
   ],
   "metadata": {
    "collapsed": false,
    "pycharm": {
     "name": "#%%\n"
    }
   }
  },
  {
   "cell_type": "code",
   "execution_count": 6,
   "outputs": [],
   "source": [
    "np.random.seed(int(STUDENT_NO))\n",
    "unique_id = int('2' + STUDENT_NO)\n",
    "rows = np.random.choice(df.index.values, unique_id)\n",
    "data = df.loc[rows]"
   ],
   "metadata": {
    "collapsed": false,
    "pycharm": {
     "name": "#%%\n"
    }
   }
  },
  {
   "cell_type": "code",
   "execution_count": 7,
   "outputs": [],
   "source": [
    "file_name = STUDENT_NAME + \"_\" + STUDENT_NO + \".csv\"\n",
    "data.to_csv(file_name)"
   ],
   "metadata": {
    "collapsed": false,
    "pycharm": {
     "name": "#%%\n"
    }
   }
  },
  {
   "cell_type": "markdown",
   "source": [
    "<h2>Basic Data Analysis"
   ],
   "metadata": {
    "collapsed": false,
    "pycharm": {
     "name": "#%% md\n"
    }
   }
  },
  {
   "cell_type": "markdown",
   "source": [
    "<h4>Q3. How many unique dates are there in the dataset? HINT: You can use the .nunique() function available in Pandas."
   ],
   "metadata": {
    "collapsed": false,
    "pycharm": {
     "name": "#%% md\n"
    }
   }
  },
  {
   "cell_type": "code",
   "execution_count": 8,
   "outputs": [],
   "source": [
    "data = pd.read_csv(\"ChristopherMitchell_8979.csv\")"
   ],
   "metadata": {
    "collapsed": false,
    "pycharm": {
     "name": "#%%\n"
    }
   }
  },
  {
   "cell_type": "code",
   "execution_count": 9,
   "outputs": [
    {
     "data": {
      "text/plain": "0        28\n1        41\n2        45\n3        45\n4        20\n         ..\n28974    19\n28975    26\n28976     5\n28977    25\n28978    35\nLength: 28979, dtype: int64"
     },
     "execution_count": 9,
     "metadata": {},
     "output_type": "execute_result"
    }
   ],
   "source": [
    "data.nunique(axis=1, dropna=True)"
   ],
   "metadata": {
    "collapsed": false,
    "pycharm": {
     "name": "#%%\n"
    }
   }
  },
  {
   "cell_type": "markdown",
   "source": [
    "<h6>Answer 3.<p>Using the Nunique function we can see that column 2, which is the date column, has 45 unique values. I have used the dropna=True argument to exclude NaN values in this count."
   ],
   "metadata": {
    "collapsed": false,
    "pycharm": {
     "name": "#%% md\n"
    }
   }
  },
  {
   "cell_type": "code",
   "execution_count": 10,
   "outputs": [],
   "source": [
    "data['Hour'] = pd.to_datetime(data['Time'], format='%H:%M').dt.hour"
   ],
   "metadata": {
    "collapsed": false,
    "pycharm": {
     "name": "#%%\n"
    }
   }
  },
  {
   "cell_type": "code",
   "execution_count": 11,
   "outputs": [
    {
     "data": {
      "text/plain": "<Figure size 640x480 with 1 Axes>",
      "image/png": "[encoded data removed]"
     },
     "metadata": {},
     "output_type": "display_data"
    }
   ],
   "source": [
    "hour_hist = data.hist(column=\"Hour\", bins=15, grid=False)\n",
    "\n",
    "for ax in hour_hist.flatten():\n",
    "    ax.set_xlabel(\"Hour\")\n",
    "    ax.set_ylabel(\"Frequency\")"
   ],
   "metadata": {
    "collapsed": false,
    "pycharm": {
     "name": "#%%\n"
    }
   }
  },
  {
   "cell_type": "markdown",
   "source": [
    "<h2>Apriori Algorithm"
   ],
   "metadata": {
    "collapsed": false,
    "pycharm": {
     "name": "#%% md\n"
    }
   }
  },
  {
   "cell_type": "code",
   "execution_count": 12,
   "outputs": [],
   "source": [
    "import apyori\n",
    "from apyori import apriori"
   ],
   "metadata": {
    "collapsed": false,
    "pycharm": {
     "name": "#%%\n"
    }
   }
  },
  {
   "cell_type": "markdown",
   "source": [
    "Data Preprocessing"
   ],
   "metadata": {
    "collapsed": false,
    "pycharm": {
     "name": "#%% md\n"
    }
   }
  },
  {
   "cell_type": "code",
   "execution_count": 13,
   "outputs": [],
   "source": [
    "items_df=data[data.columns[3:44]]"
   ],
   "metadata": {
    "collapsed": false,
    "pycharm": {
     "name": "#%%\n"
    }
   }
  },
  {
   "cell_type": "code",
   "execution_count": 14,
   "outputs": [
    {
     "data": {
      "text/plain": "    Time                             item_0                        item_1  \\\n0  16:31         ROUND CAKE TIN VINTAGE RED       BISCUIT TIN VINTAGE RED   \n1  14:30    CHARLOTTE BAG DOLLY GIRL DESIGN   RED RETROSPOT CHARLOTTE BAG   \n2  16:39  TRADITIONAL WOODEN CATCH CUP GAME                KEY FOB , SHED   \n3  17:37         COTTON APRON PANTRY DESIGN  SET OF 4 PANTRY JELLY MOULDS   \n4  12:35          HEART IVORY TRELLIS LARGE  ANTIQUE SILVER T-LIGHT GLASS   \n\n                                item_2                               item_3  \\\n0         ROUND CAKE TIN VINTAGE GREEN            BISCUIT TIN VINTAGE GREEN   \n1          CHARLOTTE BAG PINK POLKADOT             STRAWBERRY CHARLOTTE BAG   \n2              PHARMACIE FIRST AID TIN        CHOCOLATE THIS WAY METAL SIGN   \n3  MARIE ANTOINETTE TRINKET BOX SILVER                   RABBIT NIGHT LIGHT   \n4        SMALL GLASS HEART TRINKET POT  ANTIQUE TALL SWIRLGLASS TRINKET POT   \n\n                              item_4                           item_5  \\\n0            OVEN MITT APPLES DESIGN      BLUE FELT EASTER EGG BASKET   \n1             WOODLAND CHARLOTTE BAG  BLUE/CREAM STRIPE CUSHION COVER   \n2           VINTAGE SNAKES & LADDERS            BLUE HARMONICA IN BOX   \n3  PACK OF 6 COCKTAIL PARASOL STRAWS        FELTCRAFT GIRL NICOLE KIT   \n4         WOODEN FRAME ANTIQUE WHITE        NOEL WOODEN BLOCK LETTERS   \n\n                              item_6                            item_7  \\\n0       CREAM FELT EASTER EGG BASKET        PICNIC BASKET WICKER LARGE   \n1     RED/CREAM STRIPE CUSHION COVER       ANT WHITE WIRE HEART SPIRAL   \n2    SET 12 RETRO WHITE CHALK STICKS  SET 12 KIDS COLOUR  CHALK STICKS   \n3       CLASSIC CAFE SUGAR DISPENSER           REGENCY TEA PLATE ROSES   \n4  WOODEN PICTURE FRAME WHITE FINISH             FELTCRAFT CUSHION OWL   \n\n                              item_8  ...                             item_30  \\\n0         PICNIC BASKET WICKER SMALL  ...                                 NaN   \n1        PINK HAPPY BIRTHDAY BUNTING  ...               RED RETROSPOT WASHBAG   \n2  UNION STRIPE WITH FRINGE  HAMMOCK  ...       CHRISTMAS PUDDING TRINKET POT   \n3            REGENCY TEA PLATE GREEN  ...  SET OF 60 PANTRY DESIGN CAKE CASES   \n4               FELTCRAFT DOLL MARIA  ...                                 NaN   \n\n                             item_31                             item_32  \\\n0                                NaN                                 NaN   \n1              RED RETROSPOT WASHBAG     RED RETROSPOT OVEN GLOVE DOUBLE   \n2         6 RIBBONS SHIMMERING PINKS         6 RIBBONS ELEGANT CHRISTMAS   \n3  SET OF 60 VINTAGE LEAF CAKE CASES  SET 6 SCHOOL MILK BOTTLES IN CRATE   \n4                                NaN                                 NaN   \n\n                    item_33                            item_34  \\\n0                       NaN                                NaN   \n1     EDWARDIAN PARASOL RED      RETRO LEAVES MAGNETIC NOTEPAD   \n2          6 RIBBONS EMPIRE             6 RIBBONS RUSTIC CHARM   \n3  IVORY WICKER HEART LARGE  CHILDRENS TOY COOKING UTENSIL SET   \n4                       NaN                                NaN   \n\n                            item_35                            item_36  \\\n0                               NaN                                NaN   \n1    PANTRY MAGNETIC  SHOPPING LIST  SKETCHBOOK MAGNETIC SHOPPING LIST   \n2         PAPER CHAIN KIT RETROSPOT     PAPER CHAIN KIT 50'S CHRISTMAS   \n3  SET OF 3 BIRD LIGHT PINK FEATHER            VINTAGE BEAD PINK PURSE   \n4                               NaN                                NaN   \n\n                               item_37                           item_38  \\\n0                                  NaN                               NaN   \n1                IVORY REFECTORY CLOCK              FELT TOADSTOOL LARGE   \n2              PAPER BUNTING RETROSPOT              LADS ONLY TISSUE BOX   \n3  BLUE FELT HANGING HEART WITH FLOWER  PINK FELT HANGING HEART W FLOWER   \n4                                  NaN                               NaN   \n\n                            item_39  \n0                               NaN  \n1                  PARTY METAL SIGN  \n2         BOUDOIR SQUARE TISSUE BOX  \n3  FOLKART ZINC HEART CHRISTMAS DEC  \n4                               NaN  \n\n[5 rows x 41 columns]",
      "text/html": "<div>\n<style scoped>\n    .dataframe tbody tr th:only-of-type {\n        vertical-align: middle;\n    }\n\n    .dataframe tbody tr th {\n        vertical-align: top;\n    }\n\n    .dataframe thead th {\n        text-align: right;\n    }\n</style>\n<table border=\"1\" class=\"dataframe\">\n  <thead>\n    <tr style=\"text-align: right;\">\n      <th></th>\n      <th>Time</th>\n      <th>item_0</th>\n      <th>item_1</th>\n      <th>item_2</th>\n      <th>item_3</th>\n      <th>item_4</th>\n      <th>item_5</th>\n      <th>item_6</th>\n      <th>item_7</th>\n      <th>item_8</th>\n      <th>...</th>\n      <th>item_30</th>\n      <th>item_31</th>\n      <th>item_32</th>\n      <th>item_33</th>\n      <th>item_34</th>\n      <th>item_35</th>\n      <th>item_36</th>\n      <th>item_37</th>\n      <th>item_38</th>\n      <th>item_39</th>\n    </tr>\n  </thead>\n  <tbody>\n    <tr>\n      <th>0</th>\n      <td>16:31</td>\n      <td>ROUND CAKE TIN VINTAGE RED</td>\n      <td>BISCUIT TIN VINTAGE RED</td>\n      <td>ROUND CAKE TIN VINTAGE GREEN</td>\n      <td>BISCUIT TIN VINTAGE GREEN</td>\n      <td>OVEN MITT APPLES DESIGN</td>\n      <td>BLUE FELT EASTER EGG BASKET</td>\n      <td>CREAM FELT EASTER EGG BASKET</td>\n      <td>PICNIC BASKET WICKER LARGE</td>\n      <td>PICNIC BASKET WICKER SMALL</td>\n      <td>...</td>\n      <td>NaN</td>\n      <td>NaN</td>\n      <td>NaN</td>\n      <td>NaN</td>\n      <td>NaN</td>\n      <td>NaN</td>\n      <td>NaN</td>\n      <td>NaN</td>\n      <td>NaN</td>\n      <td>NaN</td>\n    </tr>\n    <tr>\n      <th>1</th>\n      <td>14:30</td>\n      <td>CHARLOTTE BAG DOLLY GIRL DESIGN</td>\n      <td>RED RETROSPOT CHARLOTTE BAG</td>\n      <td>CHARLOTTE BAG PINK POLKADOT</td>\n      <td>STRAWBERRY CHARLOTTE BAG</td>\n      <td>WOODLAND CHARLOTTE BAG</td>\n      <td>BLUE/CREAM STRIPE CUSHION COVER</td>\n      <td>RED/CREAM STRIPE CUSHION COVER</td>\n      <td>ANT WHITE WIRE HEART SPIRAL</td>\n      <td>PINK HAPPY BIRTHDAY BUNTING</td>\n      <td>...</td>\n      <td>RED RETROSPOT WASHBAG</td>\n      <td>RED RETROSPOT WASHBAG</td>\n      <td>RED RETROSPOT OVEN GLOVE DOUBLE</td>\n      <td>EDWARDIAN PARASOL RED</td>\n      <td>RETRO LEAVES MAGNETIC NOTEPAD</td>\n      <td>PANTRY MAGNETIC  SHOPPING LIST</td>\n      <td>SKETCHBOOK MAGNETIC SHOPPING LIST</td>\n      <td>IVORY REFECTORY CLOCK</td>\n      <td>FELT TOADSTOOL LARGE</td>\n      <td>PARTY METAL SIGN</td>\n    </tr>\n    <tr>\n      <th>2</th>\n      <td>16:39</td>\n      <td>TRADITIONAL WOODEN CATCH CUP GAME</td>\n      <td>KEY FOB , SHED</td>\n      <td>PHARMACIE FIRST AID TIN</td>\n      <td>CHOCOLATE THIS WAY METAL SIGN</td>\n      <td>VINTAGE SNAKES &amp; LADDERS</td>\n      <td>BLUE HARMONICA IN BOX</td>\n      <td>SET 12 RETRO WHITE CHALK STICKS</td>\n      <td>SET 12 KIDS COLOUR  CHALK STICKS</td>\n      <td>UNION STRIPE WITH FRINGE  HAMMOCK</td>\n      <td>...</td>\n      <td>CHRISTMAS PUDDING TRINKET POT</td>\n      <td>6 RIBBONS SHIMMERING PINKS</td>\n      <td>6 RIBBONS ELEGANT CHRISTMAS</td>\n      <td>6 RIBBONS EMPIRE</td>\n      <td>6 RIBBONS RUSTIC CHARM</td>\n      <td>PAPER CHAIN KIT RETROSPOT</td>\n      <td>PAPER CHAIN KIT 50'S CHRISTMAS</td>\n      <td>PAPER BUNTING RETROSPOT</td>\n      <td>LADS ONLY TISSUE BOX</td>\n      <td>BOUDOIR SQUARE TISSUE BOX</td>\n    </tr>\n    <tr>\n      <th>3</th>\n      <td>17:37</td>\n      <td>COTTON APRON PANTRY DESIGN</td>\n      <td>SET OF 4 PANTRY JELLY MOULDS</td>\n      <td>MARIE ANTOINETTE TRINKET BOX SILVER</td>\n      <td>RABBIT NIGHT LIGHT</td>\n      <td>PACK OF 6 COCKTAIL PARASOL STRAWS</td>\n      <td>FELTCRAFT GIRL NICOLE KIT</td>\n      <td>CLASSIC CAFE SUGAR DISPENSER</td>\n      <td>REGENCY TEA PLATE ROSES</td>\n      <td>REGENCY TEA PLATE GREEN</td>\n      <td>...</td>\n      <td>SET OF 60 PANTRY DESIGN CAKE CASES</td>\n      <td>SET OF 60 VINTAGE LEAF CAKE CASES</td>\n      <td>SET 6 SCHOOL MILK BOTTLES IN CRATE</td>\n      <td>IVORY WICKER HEART LARGE</td>\n      <td>CHILDRENS TOY COOKING UTENSIL SET</td>\n      <td>SET OF 3 BIRD LIGHT PINK FEATHER</td>\n      <td>VINTAGE BEAD PINK PURSE</td>\n      <td>BLUE FELT HANGING HEART WITH FLOWER</td>\n      <td>PINK FELT HANGING HEART W FLOWER</td>\n      <td>FOLKART ZINC HEART CHRISTMAS DEC</td>\n    </tr>\n    <tr>\n      <th>4</th>\n      <td>12:35</td>\n      <td>HEART IVORY TRELLIS LARGE</td>\n      <td>ANTIQUE SILVER T-LIGHT GLASS</td>\n      <td>SMALL GLASS HEART TRINKET POT</td>\n      <td>ANTIQUE TALL SWIRLGLASS TRINKET POT</td>\n      <td>WOODEN FRAME ANTIQUE WHITE</td>\n      <td>NOEL WOODEN BLOCK LETTERS</td>\n      <td>WOODEN PICTURE FRAME WHITE FINISH</td>\n      <td>FELTCRAFT CUSHION OWL</td>\n      <td>FELTCRAFT DOLL MARIA</td>\n      <td>...</td>\n      <td>NaN</td>\n      <td>NaN</td>\n      <td>NaN</td>\n      <td>NaN</td>\n      <td>NaN</td>\n      <td>NaN</td>\n      <td>NaN</td>\n      <td>NaN</td>\n      <td>NaN</td>\n      <td>NaN</td>\n    </tr>\n  </tbody>\n</table>\n<p>5 rows × 41 columns</p>\n</div>"
     },
     "execution_count": 14,
     "metadata": {},
     "output_type": "execute_result"
    }
   ],
   "source": [
    "items_df.head()"
   ],
   "metadata": {
    "collapsed": false,
    "pycharm": {
     "name": "#%%\n"
    }
   }
  },
  {
   "cell_type": "code",
   "execution_count": 15,
   "outputs": [],
   "source": [
    "baskets = items_df.T.apply(lambda x: x.dropna().tolist()).tolist()"
   ],
   "metadata": {
    "collapsed": false,
    "pycharm": {
     "name": "#%%\n"
    }
   }
  },
  {
   "cell_type": "code",
   "execution_count": 16,
   "outputs": [
    {
     "name": "stdout",
     "output_type": "stream",
     "text": [
      "['16:31', 'ROUND CAKE TIN VINTAGE RED', 'BISCUIT TIN VINTAGE RED', 'ROUND CAKE TIN VINTAGE GREEN', 'BISCUIT TIN VINTAGE GREEN', 'OVEN MITT APPLES DESIGN', 'BLUE FELT EASTER EGG BASKET', 'CREAM FELT EASTER EGG BASKET', 'PICNIC BASKET WICKER LARGE', 'PICNIC BASKET WICKER SMALL', 'EASTER BUNNY WITH BASKET ON BACK', 'RED RETROSPOT PEG BAG', 'RED RETROSPOT ROUND CAKE TINS', 'CAKE STAND 3 TIER MAGIC GARDEN', 'CAKE STAND VICTORIAN FILIGREE MED', 'ROSES REGENCY TEACUP AND SAUCER', 'PINK REGENCY TEACUP AND SAUCER', 'GREEN REGENCY TEACUP AND SAUCER', 'JAM MAKING SET WITH JARS', 'TEA TIME TEAPOT IN GIFT BOX', 'TEA TIME PARTY BUNTING', 'PACK OF 20 NAPKINS PANTRY DESIGN', 'COTTON APRON PANTRY DESIGN', 'GINGERBREAD MAN COOKIE CUTTER', 'APRON APPLE DELIGHT']\n",
      "['14:30', 'CHARLOTTE BAG DOLLY GIRL DESIGN', 'RED RETROSPOT CHARLOTTE BAG', 'CHARLOTTE BAG PINK POLKADOT', 'STRAWBERRY CHARLOTTE BAG', 'WOODLAND CHARLOTTE BAG', 'BLUE/CREAM STRIPE CUSHION COVER', 'RED/CREAM STRIPE CUSHION COVER', 'ANT WHITE WIRE HEART SPIRAL', 'PINK HAPPY BIRTHDAY BUNTING', 'PARTY BUNTING', 'BLUE HAPPY BIRTHDAY BUNTING', 'TEA TIME PARTY BUNTING', 'LUNCH BAG VINTAGE LEAF DESIGN', 'LUNCH BAG APPLE DESIGN', 'RED RETROSPOT PEG BAG', 'CREAM HEART CARD HOLDER', 'RETRO LONGBOARD IRONING BOARD COVER', 'BALLOON ART MAKE YOUR OWN FLOWERS', 'BALLOON ART MAKE YOUR OWN FLOWERS', 'SPACEBOY TV DINNER TRAY', 'PACK OF 60 DINOSAUR CAKE CASES', 'PACK OF 60 PINK PAISLEY CAKE CASES', 'PACK OF 60 SPACEBOY CAKE CASES', 'PACK OF 60 DINOSAUR CAKE CASES', 'PACK OF 60 MUSHROOM CAKE CASES', '60 TEATIME FAIRY CAKE CASES', 'RED RETROSPOT OVEN GLOVE DOUBLE', 'BAG 250g SWIRLY MARBLES', 'BAG 125g SWIRLY MARBLES', 'BLACK HEART CARD HOLDER', 'RED RETROSPOT WASHBAG', 'RED RETROSPOT WASHBAG', 'RED RETROSPOT OVEN GLOVE DOUBLE', 'EDWARDIAN PARASOL RED', 'RETRO LEAVES MAGNETIC NOTEPAD', 'PANTRY MAGNETIC  SHOPPING LIST', 'SKETCHBOOK MAGNETIC SHOPPING LIST', 'IVORY REFECTORY CLOCK', 'FELT TOADSTOOL LARGE', 'PARTY METAL SIGN']\n",
      "['16:39', 'TRADITIONAL WOODEN CATCH CUP GAME', 'KEY FOB , SHED', 'PHARMACIE FIRST AID TIN', 'CHOCOLATE THIS WAY METAL SIGN', 'VINTAGE SNAKES & LADDERS', 'BLUE HARMONICA IN BOX', 'SET 12 RETRO WHITE CHALK STICKS', 'SET 12 KIDS COLOUR  CHALK STICKS', 'UNION STRIPE WITH FRINGE  HAMMOCK', 'JUMBO STORAGE BAG SKULLS', 'JUMBO STORAGE BAG SUKI', 'SCANDINAVIAN PAISLEY PICNIC BAG', 'PINK VINTAGE PAISLEY PICNIC BAG', 'SKULL SHOULDER BAG', 'SUKI  SHOULDER BAG', 'KITTENS DESIGN FLANNEL', 'SET OF 6 HEART CHOPSTICKS', 'PACK OF 60 MUSHROOM CAKE CASES', 'PACK OF 60 PINK PAISLEY CAKE CASES', 'PACK OF 12 WOODLAND TISSUES', 'PACK OF 12 SUKI TISSUES', 'PACK OF 12 PINK PAISLEY TISSUES', 'PACK OF 12 PINK POLKADOT TISSUES', 'MODERN FLORAL STATIONERY SET', 'FLORAL FOLK STATIONERY SET', 'RAINY LADIES BIRTHDAY CARD', 'SPACEBOY BIRTHDAY CARD', 'SWALLOWS GREETING CARD', 'ROBOT BIRTHDAY CARD', '\"RECORD FRAME 7\"\" SINGLE SIZE \"', 'CHRISTMAS PUDDING TRINKET POT', '6 RIBBONS SHIMMERING PINKS', '6 RIBBONS ELEGANT CHRISTMAS', '6 RIBBONS EMPIRE', '6 RIBBONS RUSTIC CHARM', 'PAPER CHAIN KIT RETROSPOT', \"PAPER CHAIN KIT 50'S CHRISTMAS\", 'PAPER BUNTING RETROSPOT', 'LADS ONLY TISSUE BOX', 'BOUDOIR SQUARE TISSUE BOX']\n",
      "['17:37', 'COTTON APRON PANTRY DESIGN', 'SET OF 4 PANTRY JELLY MOULDS', 'MARIE ANTOINETTE TRINKET BOX SILVER', 'RABBIT NIGHT LIGHT', 'PACK OF 6 COCKTAIL PARASOL STRAWS', 'FELTCRAFT GIRL NICOLE KIT', 'CLASSIC CAFE SUGAR DISPENSER', 'REGENCY TEA PLATE ROSES', 'REGENCY TEA PLATE GREEN', 'REGENCY TEAPOT ROSES', 'TOILET SIGN OCCUPIED OR VACANT', 'BULL DOG BOTTLE OPENER', 'VINTAGE  2 METER FOLDING RULER', 'SKETCHBOOK MAGNETIC SHOPPING LIST', 'PANTRY MAGNETIC  SHOPPING LIST', 'JUMBO BAG PEARS', 'JUMBO BAG ALPHABET', 'LUNCH BAG APPLE DESIGN', 'LUNCH BAG VINTAGE DOILY', 'SET OF TEA COFFEE SUGAR TINS PANTRY', 'SET OF 3 REGENCY CAKE TINS', 'SET OF 12 FAIRY CAKE BAKING CASES', 'SET OF 6 SNACK LOAF BAKING CASES', 'SET OF 12 MINI LOAF BAKING CASES', 'SET OF 6 TEA TIME BAKING CASES', 'SPOTTY BUNTING', 'FOOD COVER WITH BEADS SET 2', 'GARDENERS KNEELING PAD CUP OF TEA', 'KNEELING MAT HOUSEWORK  DESIGN', 'SET OF 36 DOILIES PANTRY DESIGN', 'SET OF 60 PANTRY DESIGN CAKE CASES', 'SET OF 60 VINTAGE LEAF CAKE CASES', 'SET 6 SCHOOL MILK BOTTLES IN CRATE', 'IVORY WICKER HEART LARGE', 'CHILDRENS TOY COOKING UTENSIL SET', 'SET OF 3 BIRD LIGHT PINK FEATHER', 'VINTAGE BEAD PINK PURSE', 'BLUE FELT HANGING HEART WITH FLOWER', 'PINK FELT HANGING HEART W FLOWER', 'FOLKART ZINC HEART CHRISTMAS DEC']\n",
      "['12:35', 'HEART IVORY TRELLIS LARGE', 'ANTIQUE SILVER T-LIGHT GLASS', 'SMALL GLASS HEART TRINKET POT', 'ANTIQUE TALL SWIRLGLASS TRINKET POT', 'WOODEN FRAME ANTIQUE WHITE', 'NOEL WOODEN BLOCK LETTERS', 'WOODEN PICTURE FRAME WHITE FINISH', 'FELTCRAFT CUSHION OWL', 'FELTCRAFT DOLL MARIA', 'FELTCRAFT BOY JEAN-PAUL KIT', 'ZINC METAL HEART DECORATION', 'HEART FILIGREE DOVE LARGE', 'LANTERN CREAM GAZEBO', 'WHITE LOVEBIRD LANTERN', 'PICNIC BASKET WICKER LARGE', 'TRAY, BREAKFAST IN BED']\n"
     ]
    }
   ],
   "source": [
    "for i in baskets[:5]:\n",
    "    print(i)"
   ],
   "metadata": {
    "collapsed": false,
    "pycharm": {
     "name": "#%%\n"
    }
   }
  },
  {
   "cell_type": "markdown",
   "source": [
    "<h2>Algorithm Parameters"
   ],
   "metadata": {
    "collapsed": false,
    "pycharm": {
     "name": "#%% md\n"
    }
   }
  },
  {
   "cell_type": "code",
   "execution_count": 17,
   "outputs": [],
   "source": [
    "association_rules = apriori(baskets, min_support=0.01, min_confidence=0.2,\n",
    "                            min_lift=3, min_length=2)\n",
    "association_results = list(association_rules)"
   ],
   "metadata": {
    "collapsed": false,
    "pycharm": {
     "name": "#%%\n"
    }
   }
  },
  {
   "cell_type": "code",
   "execution_count": 18,
   "outputs": [
    {
     "name": "stdout",
     "output_type": "stream",
     "text": [
      "Rules generated:  83\n"
     ]
    }
   ],
   "source": [
    "print('Rules generated: ', len(association_results))"
   ],
   "metadata": {
    "collapsed": false,
    "pycharm": {
     "name": "#%%\n"
    }
   }
  },
  {
   "cell_type": "code",
   "execution_count": 19,
   "outputs": [
    {
     "name": "stdout",
     "output_type": "stream",
     "text": [
      "RelationRecord(items=frozenset({'ALARM CLOCK BAKELIKE IVORY', 'ALARM CLOCK BAKELIKE GREEN'}), support=0.010041754373856931, ordered_statistics=[OrderedStatistic(items_base=frozenset({'ALARM CLOCK BAKELIKE GREEN'}), items_add=frozenset({'ALARM CLOCK BAKELIKE IVORY'}), confidence=0.31391585760517804, lift=17.26179817370105), OrderedStatistic(items_base=frozenset({'ALARM CLOCK BAKELIKE IVORY'}), items_add=frozenset({'ALARM CLOCK BAKELIKE GREEN'}), confidence=0.5521821631878557, lift=17.26179817370105)])\n"
     ]
    }
   ],
   "source": [
    "print(association_results[0])"
   ],
   "metadata": {
    "collapsed": false,
    "pycharm": {
     "name": "#%%\n"
    }
   }
  },
  {
   "cell_type": "markdown",
   "source": [
    "<h2>Analysing the Results"
   ],
   "metadata": {
    "collapsed": false,
    "pycharm": {
     "name": "#%% md\n"
    }
   }
  },
  {
   "cell_type": "code",
   "execution_count": 20,
   "outputs": [],
   "source": [
    "def display_rules(association_results):\n",
    "    for item in association_results:\n",
    "        pair = item[0]\n",
    "        items = [x for x in pair]\n",
    "        print(\"Rule: \" + items[0] + \" ->\" + items[1])\n",
    "        print(\"Support: \" + str(item[1]))\n",
    "        print(\"Confidence: \" + str(item[2][0][2]))\n",
    "        print(\"Lift: \" + str(item[2][0][3]))\n",
    "        print(\"====================================\")"
   ],
   "metadata": {
    "collapsed": false,
    "pycharm": {
     "name": "#%%\n"
    }
   }
  },
  {
   "cell_type": "code",
   "execution_count": 21,
   "outputs": [
    {
     "name": "stdout",
     "output_type": "stream",
     "text": [
      "Rule: ALARM CLOCK BAKELIKE IVORY ->ALARM CLOCK BAKELIKE GREEN\n",
      "Support: 0.010041754373856931\n",
      "Confidence: 0.31391585760517804\n",
      "Lift: 17.26179817370105\n",
      "====================================\n",
      "Rule: ALARM CLOCK BAKELIKE GREEN ->ALARM CLOCK BAKELIKE PINK\n",
      "Support: 0.01235377342213327\n",
      "Confidence: 0.3861920172599785\n",
      "Lift: 15.784849743549954\n",
      "====================================\n",
      "Rule: ALARM CLOCK BAKELIKE GREEN ->ALARM CLOCK BAKELIKE RED\n",
      "Support: 0.01980744677180027\n",
      "Confidence: 0.6192017259978425\n",
      "Lift: 18.29138309652546\n",
      "====================================\n",
      "Rule: ALARM CLOCK BAKELIKE IVORY ->ALARM CLOCK BAKELIKE RED\n",
      "Support: 0.01156009524138169\n",
      "Confidence: 0.635673624288425\n",
      "Lift: 18.77796733767\n",
      "====================================\n",
      "Rule: ALARM CLOCK BAKELIKE PINK ->ALARM CLOCK BAKELIKE RED\n",
      "Support: 0.014251699506539218\n",
      "Confidence: 0.5825105782792666\n",
      "Lift: 17.20751686845552\n",
      "====================================\n",
      "Rule: CHARLOTTE BAG SUKI DESIGN ->CHARLOTTE BAG PINK POLKADOT\n",
      "Support: 0.01193968045826288\n",
      "Confidence: 0.5036390101892285\n",
      "Lift: 19.178652925458152\n",
      "====================================\n",
      "Rule: RED RETROSPOT CHARLOTTE BAG ->CHARLOTTE BAG PINK POLKADOT\n",
      "Support: 0.010490355084716518\n",
      "Confidence: 0.44250363901018924\n",
      "Lift: 13.878044323459171\n",
      "====================================\n",
      "Rule: CHOCOLATE HOT WATER BOTTLE ->HOT WATER BOTTLE TEA AND SYMPATHY\n",
      "Support: 0.011249525518478899\n",
      "Confidence: 0.41794871794871796\n",
      "Lift: 19.986362867055938\n",
      "====================================\n",
      "Rule: DOLLY GIRL LUNCH BOX ->SPACEBOY LUNCH BOX\n",
      "Support: 0.015804548121053176\n",
      "Confidence: 0.614765100671141\n",
      "Lift: 21.41259357253485\n",
      "====================================\n",
      "Rule: JUMBO BAG RED RETROSPOT ->DOTCOM POSTAGE\n",
      "Support: 0.010697401566651714\n",
      "Confidence: 0.49050632911392406\n",
      "Lift: 7.153690443579469\n",
      "====================================\n"
     ]
    }
   ],
   "source": [
    "display_rules(association_results[:10])"
   ],
   "metadata": {
    "collapsed": false,
    "pycharm": {
     "name": "#%%\n"
    }
   }
  },
  {
   "cell_type": "code",
   "execution_count": 22,
   "outputs": [
    {
     "data": {
      "text/plain": "[('WHITE HANGING HEART T-LIGHT HOLDER', 2242),\n ('REGENCY CAKESTAND 3 TIER', 2003),\n ('JUMBO BAG RED RETROSPOT', 2000),\n ('PARTY BUNTING', 1592),\n ('LUNCH BAG RED RETROSPOT', 1447),\n ('ASSORTED COLOUR BIRD ORNAMENT', 1379),\n ('SET OF 3 CAKE TINS PANTRY DESIGN', 1360),\n ('LUNCH BAG  BLACK SKULL', 1214),\n ('PACK OF 72 RETROSPOT CAKE CASES', 1175),\n ('JAM MAKING SET WITH JARS', 1155)]"
     },
     "execution_count": 22,
     "metadata": {},
     "output_type": "execute_result"
    }
   ],
   "source": [
    "from collections import Counter\n",
    "\n",
    "counter = Counter(baskets[0])\n",
    "for i in baskets[1:]:\n",
    "    if i != 'nan':\n",
    "        counter.update(i)\n",
    "\n",
    "del counter['nan']\n",
    "counter.most_common(10)"
   ],
   "metadata": {
    "collapsed": false,
    "pycharm": {
     "name": "#%%\n"
    }
   }
  },
  {
   "cell_type": "markdown",
   "source": [
    "<h4>Q4. How many of these items can you find in the rules you have just displayed? Are all the top 10 items included? Provide an explanation as to why these items may be missing/present in the rules."
   ],
   "metadata": {
    "collapsed": false,
    "pycharm": {
     "name": "#%% md\n"
    }
   }
  },
  {
   "cell_type": "markdown",
   "source": [
    "<h6>Answer 4.</h6>\n",
    "<p>None of the items match the rules."
   ],
   "metadata": {
    "collapsed": false,
    "pycharm": {
     "name": "#%% md\n"
    }
   }
  },
  {
   "cell_type": "markdown",
   "source": [
    "<h4>Q5. Run the apriori algorithm with the following three different settings:<p>Setting 1: Min Support = 0.015, Min Confidence = 0.7, Min Lift = 3<p>Setting 2: Min Support = 0.009, Min Confidence = 0.5, Min Lift = 3<p>Setting 3: Min Support = 0.015, Min Confidence = 0.5, Min Lift = 9<p>Calculate the number of rules you get for each setting and how the quality of the rules differ in each setting."
   ],
   "metadata": {
    "collapsed": false
   }
  },
  {
   "cell_type": "markdown",
   "source": [
    "<h6>Answer 5.</h6>"
   ],
   "metadata": {
    "collapsed": false
   }
  },
  {
   "cell_type": "markdown",
   "source": [
    "<h6>Setting 1"
   ],
   "metadata": {
    "collapsed": false
   }
  },
  {
   "cell_type": "code",
   "execution_count": 23,
   "outputs": [],
   "source": [
    "association_rules_1 = apriori(baskets, min_support=0.015, min_confidence=0.7,\n",
    "                              min_lift=3, min_length=2)\n",
    "association_results_1 = list(association_rules_1)"
   ],
   "metadata": {
    "collapsed": false,
    "pycharm": {
     "name": "#%%\n"
    }
   }
  },
  {
   "cell_type": "code",
   "execution_count": 24,
   "outputs": [
    {
     "name": "stdout",
     "output_type": "stream",
     "text": [
      "Rules generated:  4\n"
     ]
    }
   ],
   "source": [
    "print('Rules generated: ', len(association_results_1))"
   ],
   "metadata": {
    "collapsed": false,
    "pycharm": {
     "name": "#%%\n"
    }
   }
  },
  {
   "cell_type": "markdown",
   "source": [
    "<h6>Setting 2"
   ],
   "metadata": {
    "collapsed": false
   }
  },
  {
   "cell_type": "code",
   "execution_count": 25,
   "outputs": [],
   "source": [
    "association_rules_2 = apriori(baskets, min_support=0.009, min_confidence=0.5,\n",
    "                              min_lift=3, min_length=2)\n",
    "association_results_2 = list(association_rules_2)"
   ],
   "metadata": {
    "collapsed": false,
    "pycharm": {
     "name": "#%%\n"
    }
   }
  },
  {
   "cell_type": "code",
   "execution_count": 26,
   "outputs": [
    {
     "name": "stdout",
     "output_type": "stream",
     "text": [
      "Rules generated:  41\n"
     ]
    }
   ],
   "source": [
    "print('Rules generated: ', len(association_results_2))"
   ],
   "metadata": {
    "collapsed": false,
    "pycharm": {
     "name": "#%%\n"
    }
   }
  },
  {
   "cell_type": "markdown",
   "source": [
    "<h6>Setting 3"
   ],
   "metadata": {
    "collapsed": false
   }
  },
  {
   "cell_type": "code",
   "execution_count": 27,
   "outputs": [],
   "source": [
    "association_rules_3 = apriori(baskets, min_support=0.015, min_confidence=0.5,\n",
    "                              min_lift=9, min_length=2)\n",
    "association_results_3 = list(association_rules_3)"
   ],
   "metadata": {
    "collapsed": false,
    "pycharm": {
     "name": "#%%\n"
    }
   }
  },
  {
   "cell_type": "code",
   "execution_count": 28,
   "outputs": [
    {
     "name": "stdout",
     "output_type": "stream",
     "text": [
      "Rules generated:  9\n"
     ]
    }
   ],
   "source": [
    "print('Rules generated: ', len(association_results_3))"
   ],
   "metadata": {
    "collapsed": false,
    "pycharm": {
     "name": "#%%\n"
    }
   }
  },
  {
   "cell_type": "markdown",
   "source": [
    "<h4>Q6. Filter the transactions from the day of the week or the month and generate association rules again. Discuss whether the rules change in different days or different months."
   ],
   "metadata": {
    "collapsed": false
   }
  },
  {
   "cell_type": "code",
   "execution_count": 29,
   "outputs": [],
   "source": [],
   "metadata": {
    "collapsed": false,
    "pycharm": {
     "name": "#%%\n"
    }
   }
  }
 ],
 "metadata": {
  "kernelspec": {
   "display_name": "Python 3",
   "language": "python",
   "name": "python3"
  },
  "language_info": {
   "codemirror_mode": {
    "name": "ipython",
    "version": 3
   },
   "file_extension": ".py",
   "mimetype": "text/x-python",
   "name": "python",
   "nbconvert_exporter": "python",
   "pygments_lexer": "ipython3",
   "version": "3.8.8"
  }
 },
 "nbformat": 4,
 "nbformat_minor": 5
}